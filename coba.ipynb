{
 "cells": [
  {
   "cell_type": "code",
   "execution_count": 1,
   "metadata": {},
   "outputs": [
    {
     "name": "stdout",
     "output_type": "stream",
     "text": [
      "Defaulting to user installation because normal site-packages is not writeable\n",
      "Requirement already satisfied: jcopml in /home/purnama/.local/lib/python3.10/site-packages (1.2.2)\n",
      "Requirement already satisfied: scipy in /home/purnama/.local/lib/python3.10/site-packages (from jcopml) (1.10.1)\n",
      "Requirement already satisfied: scikit-learn in /home/purnama/.local/lib/python3.10/site-packages (from jcopml) (1.2.2)\n",
      "Requirement already satisfied: matplotlib in /home/purnama/.local/lib/python3.10/site-packages (from jcopml) (3.7.1)\n",
      "Requirement already satisfied: statsmodels in /home/purnama/.local/lib/python3.10/site-packages (from jcopml) (0.14.0)\n",
      "Requirement already satisfied: scikit-optimize in /home/purnama/.local/lib/python3.10/site-packages (from jcopml) (0.9.0)\n",
      "Requirement already satisfied: pandas in /home/purnama/.local/lib/python3.10/site-packages (from jcopml) (2.0.2)\n",
      "Requirement already satisfied: numpy in /home/purnama/.local/lib/python3.10/site-packages (from jcopml) (1.24.3)\n",
      "Requirement already satisfied: seaborn in /home/purnama/.local/lib/python3.10/site-packages (from jcopml) (0.12.2)\n",
      "Requirement already satisfied: ipywidgets in /home/purnama/.local/lib/python3.10/site-packages (from jcopml) (8.0.6)\n",
      "Requirement already satisfied: jupyterlab-widgets~=3.0.7 in /home/purnama/.local/lib/python3.10/site-packages (from ipywidgets->jcopml) (3.0.7)\n",
      "Requirement already satisfied: traitlets>=4.3.1 in /home/purnama/.local/lib/python3.10/site-packages (from ipywidgets->jcopml) (5.9.0)\n",
      "Requirement already satisfied: widgetsnbextension~=4.0.7 in /home/purnama/.local/lib/python3.10/site-packages (from ipywidgets->jcopml) (4.0.7)\n",
      "Requirement already satisfied: ipykernel>=4.5.1 in /home/purnama/.local/lib/python3.10/site-packages (from ipywidgets->jcopml) (6.23.1)\n",
      "Requirement already satisfied: ipython>=6.1.0 in /home/purnama/.local/lib/python3.10/site-packages (from ipywidgets->jcopml) (8.14.0)\n",
      "Requirement already satisfied: python-dateutil>=2.7 in /home/purnama/.local/lib/python3.10/site-packages (from matplotlib->jcopml) (2.8.2)\n",
      "Requirement already satisfied: pyparsing>=2.3.1 in /usr/lib/python3/dist-packages (from matplotlib->jcopml) (2.4.7)\n",
      "Requirement already satisfied: cycler>=0.10 in /home/purnama/.local/lib/python3.10/site-packages (from matplotlib->jcopml) (0.11.0)\n",
      "Requirement already satisfied: contourpy>=1.0.1 in /home/purnama/.local/lib/python3.10/site-packages (from matplotlib->jcopml) (1.0.7)\n",
      "Requirement already satisfied: pillow>=6.2.0 in /usr/lib/python3/dist-packages (from matplotlib->jcopml) (9.0.1)\n",
      "Requirement already satisfied: kiwisolver>=1.0.1 in /home/purnama/.local/lib/python3.10/site-packages (from matplotlib->jcopml) (1.4.4)\n",
      "Requirement already satisfied: fonttools>=4.22.0 in /home/purnama/.local/lib/python3.10/site-packages (from matplotlib->jcopml) (4.39.4)\n",
      "Requirement already satisfied: packaging>=20.0 in /home/purnama/.local/lib/python3.10/site-packages (from matplotlib->jcopml) (23.1)\n",
      "Requirement already satisfied: tzdata>=2022.1 in /home/purnama/.local/lib/python3.10/site-packages (from pandas->jcopml) (2023.3)\n",
      "Requirement already satisfied: pytz>=2020.1 in /usr/lib/python3/dist-packages (from pandas->jcopml) (2022.1)\n",
      "Requirement already satisfied: threadpoolctl>=2.0.0 in /home/purnama/.local/lib/python3.10/site-packages (from scikit-learn->jcopml) (3.1.0)\n",
      "Requirement already satisfied: joblib>=1.1.1 in /home/purnama/.local/lib/python3.10/site-packages (from scikit-learn->jcopml) (1.2.0)\n",
      "Requirement already satisfied: pyaml>=16.9 in /home/purnama/.local/lib/python3.10/site-packages (from scikit-optimize->jcopml) (23.5.9)\n",
      "Requirement already satisfied: patsy>=0.5.2 in /home/purnama/.local/lib/python3.10/site-packages (from statsmodels->jcopml) (0.5.3)\n",
      "Requirement already satisfied: pyzmq>=20 in /home/purnama/.local/lib/python3.10/site-packages (from ipykernel>=4.5.1->ipywidgets->jcopml) (25.1.0)\n",
      "Requirement already satisfied: nest-asyncio in /home/purnama/.local/lib/python3.10/site-packages (from ipykernel>=4.5.1->ipywidgets->jcopml) (1.5.6)\n",
      "Requirement already satisfied: matplotlib-inline>=0.1 in /home/purnama/.local/lib/python3.10/site-packages (from ipykernel>=4.5.1->ipywidgets->jcopml) (0.1.6)\n",
      "Requirement already satisfied: jupyter-core!=5.0.*,>=4.12 in /home/purnama/.local/lib/python3.10/site-packages (from ipykernel>=4.5.1->ipywidgets->jcopml) (5.3.0)\n",
      "Requirement already satisfied: jupyter-client>=6.1.12 in /home/purnama/.local/lib/python3.10/site-packages (from ipykernel>=4.5.1->ipywidgets->jcopml) (8.2.0)\n",
      "Requirement already satisfied: debugpy>=1.6.5 in /home/purnama/.local/lib/python3.10/site-packages (from ipykernel>=4.5.1->ipywidgets->jcopml) (1.6.7)\n",
      "Requirement already satisfied: comm>=0.1.1 in /home/purnama/.local/lib/python3.10/site-packages (from ipykernel>=4.5.1->ipywidgets->jcopml) (0.1.3)\n",
      "Requirement already satisfied: tornado>=6.1 in /home/purnama/.local/lib/python3.10/site-packages (from ipykernel>=4.5.1->ipywidgets->jcopml) (6.3.2)\n",
      "Requirement already satisfied: psutil in /home/purnama/.local/lib/python3.10/site-packages (from ipykernel>=4.5.1->ipywidgets->jcopml) (5.9.5)\n",
      "Requirement already satisfied: prompt-toolkit!=3.0.37,<3.1.0,>=3.0.30 in /home/purnama/.local/lib/python3.10/site-packages (from ipython>=6.1.0->ipywidgets->jcopml) (3.0.38)\n",
      "Requirement already satisfied: stack-data in /home/purnama/.local/lib/python3.10/site-packages (from ipython>=6.1.0->ipywidgets->jcopml) (0.6.2)\n",
      "Requirement already satisfied: decorator in /home/purnama/.local/lib/python3.10/site-packages (from ipython>=6.1.0->ipywidgets->jcopml) (5.1.1)\n",
      "Requirement already satisfied: pygments>=2.4.0 in /home/purnama/.local/lib/python3.10/site-packages (from ipython>=6.1.0->ipywidgets->jcopml) (2.15.1)\n",
      "Requirement already satisfied: jedi>=0.16 in /home/purnama/.local/lib/python3.10/site-packages (from ipython>=6.1.0->ipywidgets->jcopml) (0.18.2)\n",
      "Requirement already satisfied: backcall in /home/purnama/.local/lib/python3.10/site-packages (from ipython>=6.1.0->ipywidgets->jcopml) (0.2.0)\n",
      "Requirement already satisfied: pickleshare in /home/purnama/.local/lib/python3.10/site-packages (from ipython>=6.1.0->ipywidgets->jcopml) (0.7.5)\n",
      "Requirement already satisfied: pexpect>4.3 in /usr/lib/python3/dist-packages (from ipython>=6.1.0->ipywidgets->jcopml) (4.8.0)\n",
      "Requirement already satisfied: six in /usr/lib/python3/dist-packages (from patsy>=0.5.2->statsmodels->jcopml) (1.16.0)\n",
      "Requirement already satisfied: PyYAML in /usr/lib/python3/dist-packages (from pyaml>=16.9->scikit-optimize->jcopml) (5.4.1)\n",
      "Requirement already satisfied: parso<0.9.0,>=0.8.0 in /home/purnama/.local/lib/python3.10/site-packages (from jedi>=0.16->ipython>=6.1.0->ipywidgets->jcopml) (0.8.3)\n",
      "Requirement already satisfied: platformdirs>=2.5 in /home/purnama/.local/lib/python3.10/site-packages (from jupyter-core!=5.0.*,>=4.12->ipykernel>=4.5.1->ipywidgets->jcopml) (3.5.3)\n",
      "Requirement already satisfied: wcwidth in /home/purnama/.local/lib/python3.10/site-packages (from prompt-toolkit!=3.0.37,<3.1.0,>=3.0.30->ipython>=6.1.0->ipywidgets->jcopml) (0.2.6)\n",
      "Requirement already satisfied: executing>=1.2.0 in /home/purnama/.local/lib/python3.10/site-packages (from stack-data->ipython>=6.1.0->ipywidgets->jcopml) (1.2.0)\n",
      "Requirement already satisfied: asttokens>=2.1.0 in /home/purnama/.local/lib/python3.10/site-packages (from stack-data->ipython>=6.1.0->ipywidgets->jcopml) (2.2.1)\n",
      "Requirement already satisfied: pure-eval in /home/purnama/.local/lib/python3.10/site-packages (from stack-data->ipython>=6.1.0->ipywidgets->jcopml) (0.2.2)\n",
      "Note: you may need to restart the kernel to use updated packages.\n"
     ]
    }
   ],
   "source": [
    "pip install jcopml"
   ]
  },
  {
   "cell_type": "code",
   "execution_count": 2,
   "metadata": {},
   "outputs": [
    {
     "name": "stdout",
     "output_type": "stream",
     "text": [
      "Defaulting to user installation because normal site-packages is not writeable\n",
      "Requirement already satisfied: joblib in /home/purnama/.local/lib/python3.10/site-packages (1.2.0)\n",
      "Note: you may need to restart the kernel to use updated packages.\n"
     ]
    }
   ],
   "source": [
    "pip install joblib"
   ]
  },
  {
   "cell_type": "code",
   "execution_count": 3,
   "metadata": {},
   "outputs": [],
   "source": [
    "# Memanggil Library\n",
    "import pandas as pd\n",
    "import numpy as np\n",
    "import joblib\n",
    "\n",
    "\n",
    "from sklearn.model_selection import train_test_split\n",
    "from sklearn.pipeline import Pipeline\n",
    "from sklearn.compose import ColumnTransformer\n",
    "from jcopml.pipeline import num_pipe, cat_pipe"
   ]
  },
  {
   "cell_type": "code",
   "execution_count": 4,
   "metadata": {},
   "outputs": [
    {
     "data": {
      "text/html": [
       "<div>\n",
       "<style scoped>\n",
       "    .dataframe tbody tr th:only-of-type {\n",
       "        vertical-align: middle;\n",
       "    }\n",
       "\n",
       "    .dataframe tbody tr th {\n",
       "        vertical-align: top;\n",
       "    }\n",
       "\n",
       "    .dataframe thead th {\n",
       "        text-align: right;\n",
       "    }\n",
       "</style>\n",
       "<table border=\"1\" class=\"dataframe\">\n",
       "  <thead>\n",
       "    <tr style=\"text-align: right;\">\n",
       "      <th></th>\n",
       "      <th>Suhu</th>\n",
       "      <th>Kelembaban</th>\n",
       "      <th>Curah Hujan</th>\n",
       "      <th>Sinar Matahari</th>\n",
       "      <th>Kondisi</th>\n",
       "    </tr>\n",
       "  </thead>\n",
       "  <tbody>\n",
       "    <tr>\n",
       "      <th>0</th>\n",
       "      <td>25.88</td>\n",
       "      <td>86.97</td>\n",
       "      <td>14.22</td>\n",
       "      <td>3.27</td>\n",
       "      <td>0</td>\n",
       "    </tr>\n",
       "    <tr>\n",
       "      <th>1</th>\n",
       "      <td>25.99</td>\n",
       "      <td>87.46</td>\n",
       "      <td>15.35</td>\n",
       "      <td>5.49</td>\n",
       "      <td>0</td>\n",
       "    </tr>\n",
       "    <tr>\n",
       "      <th>2</th>\n",
       "      <td>26.39</td>\n",
       "      <td>86.16</td>\n",
       "      <td>7.76</td>\n",
       "      <td>6.09</td>\n",
       "      <td>1</td>\n",
       "    </tr>\n",
       "    <tr>\n",
       "      <th>3</th>\n",
       "      <td>27.02</td>\n",
       "      <td>85.50</td>\n",
       "      <td>3.86</td>\n",
       "      <td>6.60</td>\n",
       "      <td>1</td>\n",
       "    </tr>\n",
       "    <tr>\n",
       "      <th>4</th>\n",
       "      <td>26.34</td>\n",
       "      <td>82.77</td>\n",
       "      <td>0.41</td>\n",
       "      <td>7.19</td>\n",
       "      <td>1</td>\n",
       "    </tr>\n",
       "    <tr>\n",
       "      <th>...</th>\n",
       "      <td>...</td>\n",
       "      <td>...</td>\n",
       "      <td>...</td>\n",
       "      <td>...</td>\n",
       "      <td>...</td>\n",
       "    </tr>\n",
       "    <tr>\n",
       "      <th>56</th>\n",
       "      <td>26.47</td>\n",
       "      <td>83.87</td>\n",
       "      <td>3.85</td>\n",
       "      <td>5.73</td>\n",
       "      <td>1</td>\n",
       "    </tr>\n",
       "    <tr>\n",
       "      <th>57</th>\n",
       "      <td>25.56</td>\n",
       "      <td>90.06</td>\n",
       "      <td>10.26</td>\n",
       "      <td>3.30</td>\n",
       "      <td>0</td>\n",
       "    </tr>\n",
       "    <tr>\n",
       "      <th>58</th>\n",
       "      <td>25.81</td>\n",
       "      <td>90.77</td>\n",
       "      <td>12.20</td>\n",
       "      <td>2.92</td>\n",
       "      <td>0</td>\n",
       "    </tr>\n",
       "    <tr>\n",
       "      <th>59</th>\n",
       "      <td>26.18</td>\n",
       "      <td>89.39</td>\n",
       "      <td>14.32</td>\n",
       "      <td>3.79</td>\n",
       "      <td>0</td>\n",
       "    </tr>\n",
       "    <tr>\n",
       "      <th>60</th>\n",
       "      <td>27.34</td>\n",
       "      <td>85.75</td>\n",
       "      <td>10.02</td>\n",
       "      <td>4.00</td>\n",
       "      <td>0</td>\n",
       "    </tr>\n",
       "  </tbody>\n",
       "</table>\n",
       "<p>61 rows × 5 columns</p>\n",
       "</div>"
      ],
      "text/plain": [
       "     Suhu  Kelembaban  Curah Hujan  Sinar Matahari  Kondisi\n",
       "0   25.88       86.97        14.22            3.27        0\n",
       "1   25.99       87.46        15.35            5.49        0\n",
       "2   26.39       86.16         7.76            6.09        1\n",
       "3   27.02       85.50         3.86            6.60        1\n",
       "4   26.34       82.77         0.41            7.19        1\n",
       "..    ...         ...          ...             ...      ...\n",
       "56  26.47       83.87         3.85            5.73        1\n",
       "57  25.56       90.06        10.26            3.30        0\n",
       "58  25.81       90.77        12.20            2.92        0\n",
       "59  26.18       89.39        14.32            3.79        0\n",
       "60  27.34       85.75        10.02            4.00        0\n",
       "\n",
       "[61 rows x 5 columns]"
      ]
     },
     "execution_count": 4,
     "metadata": {},
     "output_type": "execute_result"
    }
   ],
   "source": [
    "cuaca = pd.read_csv(\"data/Cuaca-2018-2023-3.csv\")\n",
    "cuaca"
   ]
  },
  {
   "cell_type": "code",
   "execution_count": 5,
   "metadata": {},
   "outputs": [
    {
     "data": {
      "text/plain": [
       "((48, 4), (13, 4), (48,), (13,))"
      ]
     },
     "execution_count": 5,
     "metadata": {},
     "output_type": "execute_result"
    }
   ],
   "source": [
    "# Split data\n",
    "x = cuaca.drop(columns=\"Kondisi\")\n",
    "y = cuaca.Kondisi\n",
    "\n",
    "x_train, x_test, y_train, y_test = train_test_split(x, y, test_size=0.2, random_state=42)\n",
    "x_train.shape, x_test.shape, y_train.shape, y_test.shape"
   ]
  },
  {
   "cell_type": "code",
   "execution_count": 6,
   "metadata": {},
   "outputs": [],
   "source": [
    "# Preprocessing\n",
    "preprocessor = ColumnTransformer([\n",
    "    ('numeric', num_pipe(), [\"Suhu\", \"Kelembaban\", \"Curah Hujan\", \"Sinar Matahari\"]),\n",
    "])"
   ]
  },
  {
   "cell_type": "code",
   "execution_count": 7,
   "metadata": {},
   "outputs": [],
   "source": [
    "# Inisialisasi\n",
    "from sklearn.naive_bayes import GaussianNB\n",
    "pipeline = Pipeline([\n",
    "    (\"prep\", preprocessor),\n",
    "    (\"algo\", GaussianNB())\n",
    "])"
   ]
  },
  {
   "cell_type": "code",
   "execution_count": 8,
   "metadata": {},
   "outputs": [
    {
     "data": {
      "text/html": [
       "<style>#sk-container-id-1 {color: black;background-color: white;}#sk-container-id-1 pre{padding: 0;}#sk-container-id-1 div.sk-toggleable {background-color: white;}#sk-container-id-1 label.sk-toggleable__label {cursor: pointer;display: block;width: 100%;margin-bottom: 0;padding: 0.3em;box-sizing: border-box;text-align: center;}#sk-container-id-1 label.sk-toggleable__label-arrow:before {content: \"▸\";float: left;margin-right: 0.25em;color: #696969;}#sk-container-id-1 label.sk-toggleable__label-arrow:hover:before {color: black;}#sk-container-id-1 div.sk-estimator:hover label.sk-toggleable__label-arrow:before {color: black;}#sk-container-id-1 div.sk-toggleable__content {max-height: 0;max-width: 0;overflow: hidden;text-align: left;background-color: #f0f8ff;}#sk-container-id-1 div.sk-toggleable__content pre {margin: 0.2em;color: black;border-radius: 0.25em;background-color: #f0f8ff;}#sk-container-id-1 input.sk-toggleable__control:checked~div.sk-toggleable__content {max-height: 200px;max-width: 100%;overflow: auto;}#sk-container-id-1 input.sk-toggleable__control:checked~label.sk-toggleable__label-arrow:before {content: \"▾\";}#sk-container-id-1 div.sk-estimator input.sk-toggleable__control:checked~label.sk-toggleable__label {background-color: #d4ebff;}#sk-container-id-1 div.sk-label input.sk-toggleable__control:checked~label.sk-toggleable__label {background-color: #d4ebff;}#sk-container-id-1 input.sk-hidden--visually {border: 0;clip: rect(1px 1px 1px 1px);clip: rect(1px, 1px, 1px, 1px);height: 1px;margin: -1px;overflow: hidden;padding: 0;position: absolute;width: 1px;}#sk-container-id-1 div.sk-estimator {font-family: monospace;background-color: #f0f8ff;border: 1px dotted black;border-radius: 0.25em;box-sizing: border-box;margin-bottom: 0.5em;}#sk-container-id-1 div.sk-estimator:hover {background-color: #d4ebff;}#sk-container-id-1 div.sk-parallel-item::after {content: \"\";width: 100%;border-bottom: 1px solid gray;flex-grow: 1;}#sk-container-id-1 div.sk-label:hover label.sk-toggleable__label {background-color: #d4ebff;}#sk-container-id-1 div.sk-serial::before {content: \"\";position: absolute;border-left: 1px solid gray;box-sizing: border-box;top: 0;bottom: 0;left: 50%;z-index: 0;}#sk-container-id-1 div.sk-serial {display: flex;flex-direction: column;align-items: center;background-color: white;padding-right: 0.2em;padding-left: 0.2em;position: relative;}#sk-container-id-1 div.sk-item {position: relative;z-index: 1;}#sk-container-id-1 div.sk-parallel {display: flex;align-items: stretch;justify-content: center;background-color: white;position: relative;}#sk-container-id-1 div.sk-item::before, #sk-container-id-1 div.sk-parallel-item::before {content: \"\";position: absolute;border-left: 1px solid gray;box-sizing: border-box;top: 0;bottom: 0;left: 50%;z-index: -1;}#sk-container-id-1 div.sk-parallel-item {display: flex;flex-direction: column;z-index: 1;position: relative;background-color: white;}#sk-container-id-1 div.sk-parallel-item:first-child::after {align-self: flex-end;width: 50%;}#sk-container-id-1 div.sk-parallel-item:last-child::after {align-self: flex-start;width: 50%;}#sk-container-id-1 div.sk-parallel-item:only-child::after {width: 0;}#sk-container-id-1 div.sk-dashed-wrapped {border: 1px dashed gray;margin: 0 0.4em 0.5em 0.4em;box-sizing: border-box;padding-bottom: 0.4em;background-color: white;}#sk-container-id-1 div.sk-label label {font-family: monospace;font-weight: bold;display: inline-block;line-height: 1.2em;}#sk-container-id-1 div.sk-label-container {text-align: center;}#sk-container-id-1 div.sk-container {/* jupyter's `normalize.less` sets `[hidden] { display: none; }` but bootstrap.min.css set `[hidden] { display: none !important; }` so we also need the `!important` here to be able to override the default hidden behavior on the sphinx rendered scikit-learn.org. See: https://github.com/scikit-learn/scikit-learn/issues/21755 */display: inline-block !important;position: relative;}#sk-container-id-1 div.sk-text-repr-fallback {display: none;}</style><div id=\"sk-container-id-1\" class=\"sk-top-container\"><div class=\"sk-text-repr-fallback\"><pre>Pipeline(steps=[(&#x27;prep&#x27;,\n",
       "                 ColumnTransformer(transformers=[(&#x27;numeric&#x27;,\n",
       "                                                  Pipeline(steps=[(&#x27;imputer&#x27;,\n",
       "                                                                   SimpleImputer(strategy=&#x27;median&#x27;))]),\n",
       "                                                  [&#x27;Suhu&#x27;, &#x27;Kelembaban&#x27;,\n",
       "                                                   &#x27;Curah Hujan&#x27;,\n",
       "                                                   &#x27;Sinar Matahari&#x27;])])),\n",
       "                (&#x27;algo&#x27;, GaussianNB())])</pre><b>In a Jupyter environment, please rerun this cell to show the HTML representation or trust the notebook. <br />On GitHub, the HTML representation is unable to render, please try loading this page with nbviewer.org.</b></div><div class=\"sk-container\" hidden><div class=\"sk-item sk-dashed-wrapped\"><div class=\"sk-label-container\"><div class=\"sk-label sk-toggleable\"><input class=\"sk-toggleable__control sk-hidden--visually\" id=\"sk-estimator-id-1\" type=\"checkbox\" ><label for=\"sk-estimator-id-1\" class=\"sk-toggleable__label sk-toggleable__label-arrow\">Pipeline</label><div class=\"sk-toggleable__content\"><pre>Pipeline(steps=[(&#x27;prep&#x27;,\n",
       "                 ColumnTransformer(transformers=[(&#x27;numeric&#x27;,\n",
       "                                                  Pipeline(steps=[(&#x27;imputer&#x27;,\n",
       "                                                                   SimpleImputer(strategy=&#x27;median&#x27;))]),\n",
       "                                                  [&#x27;Suhu&#x27;, &#x27;Kelembaban&#x27;,\n",
       "                                                   &#x27;Curah Hujan&#x27;,\n",
       "                                                   &#x27;Sinar Matahari&#x27;])])),\n",
       "                (&#x27;algo&#x27;, GaussianNB())])</pre></div></div></div><div class=\"sk-serial\"><div class=\"sk-item sk-dashed-wrapped\"><div class=\"sk-label-container\"><div class=\"sk-label sk-toggleable\"><input class=\"sk-toggleable__control sk-hidden--visually\" id=\"sk-estimator-id-2\" type=\"checkbox\" ><label for=\"sk-estimator-id-2\" class=\"sk-toggleable__label sk-toggleable__label-arrow\">prep: ColumnTransformer</label><div class=\"sk-toggleable__content\"><pre>ColumnTransformer(transformers=[(&#x27;numeric&#x27;,\n",
       "                                 Pipeline(steps=[(&#x27;imputer&#x27;,\n",
       "                                                  SimpleImputer(strategy=&#x27;median&#x27;))]),\n",
       "                                 [&#x27;Suhu&#x27;, &#x27;Kelembaban&#x27;, &#x27;Curah Hujan&#x27;,\n",
       "                                  &#x27;Sinar Matahari&#x27;])])</pre></div></div></div><div class=\"sk-parallel\"><div class=\"sk-parallel-item\"><div class=\"sk-item\"><div class=\"sk-label-container\"><div class=\"sk-label sk-toggleable\"><input class=\"sk-toggleable__control sk-hidden--visually\" id=\"sk-estimator-id-3\" type=\"checkbox\" ><label for=\"sk-estimator-id-3\" class=\"sk-toggleable__label sk-toggleable__label-arrow\">numeric</label><div class=\"sk-toggleable__content\"><pre>[&#x27;Suhu&#x27;, &#x27;Kelembaban&#x27;, &#x27;Curah Hujan&#x27;, &#x27;Sinar Matahari&#x27;]</pre></div></div></div><div class=\"sk-serial\"><div class=\"sk-item\"><div class=\"sk-serial\"><div class=\"sk-item\"><div class=\"sk-estimator sk-toggleable\"><input class=\"sk-toggleable__control sk-hidden--visually\" id=\"sk-estimator-id-4\" type=\"checkbox\" ><label for=\"sk-estimator-id-4\" class=\"sk-toggleable__label sk-toggleable__label-arrow\">SimpleImputer</label><div class=\"sk-toggleable__content\"><pre>SimpleImputer(strategy=&#x27;median&#x27;)</pre></div></div></div></div></div></div></div></div></div></div><div class=\"sk-item\"><div class=\"sk-estimator sk-toggleable\"><input class=\"sk-toggleable__control sk-hidden--visually\" id=\"sk-estimator-id-5\" type=\"checkbox\" ><label for=\"sk-estimator-id-5\" class=\"sk-toggleable__label sk-toggleable__label-arrow\">GaussianNB</label><div class=\"sk-toggleable__content\"><pre>GaussianNB()</pre></div></div></div></div></div></div></div>"
      ],
      "text/plain": [
       "Pipeline(steps=[('prep',\n",
       "                 ColumnTransformer(transformers=[('numeric',\n",
       "                                                  Pipeline(steps=[('imputer',\n",
       "                                                                   SimpleImputer(strategy='median'))]),\n",
       "                                                  ['Suhu', 'Kelembaban',\n",
       "                                                   'Curah Hujan',\n",
       "                                                   'Sinar Matahari'])])),\n",
       "                ('algo', GaussianNB())])"
      ]
     },
     "execution_count": 8,
     "metadata": {},
     "output_type": "execute_result"
    }
   ],
   "source": [
    "pipeline.fit(x_train, y_train)"
   ]
  },
  {
   "cell_type": "code",
   "execution_count": 9,
   "metadata": {},
   "outputs": [
    {
     "data": {
      "text/plain": [
       "0.9375"
      ]
     },
     "execution_count": 9,
     "metadata": {},
     "output_type": "execute_result"
    }
   ],
   "source": [
    "pipeline.score(x_train, y_train)"
   ]
  },
  {
   "cell_type": "code",
   "execution_count": 10,
   "metadata": {},
   "outputs": [
    {
     "data": {
      "text/plain": [
       "0.9230769230769231"
      ]
     },
     "execution_count": 10,
     "metadata": {},
     "output_type": "execute_result"
    }
   ],
   "source": [
    "pipeline.score(x_test, y_test)"
   ]
  },
  {
   "cell_type": "code",
   "execution_count": 11,
   "metadata": {},
   "outputs": [
    {
     "data": {
      "image/png": "[encoded data removed]",
      "text/plain": [
       "<Figure size 1100x500 with 2 Axes>"
      ]
     },
     "metadata": {},
     "output_type": "display_data"
    }
   ],
   "source": [
    "from jcopml.plot import plot_confusion_matrix\n",
    "plot_confusion_matrix(x_train, y_train, x_test, y_test, pipeline)"
   ]
  },
  {
   "cell_type": "code",
   "execution_count": 12,
   "metadata": {},
   "outputs": [
    {
     "data": {
      "text/html": [
       "<div>\n",
       "<style scoped>\n",
       "    .dataframe tbody tr th:only-of-type {\n",
       "        vertical-align: middle;\n",
       "    }\n",
       "\n",
       "    .dataframe tbody tr th {\n",
       "        vertical-align: top;\n",
       "    }\n",
       "\n",
       "    .dataframe thead th {\n",
       "        text-align: right;\n",
       "    }\n",
       "</style>\n",
       "<table border=\"1\" class=\"dataframe\">\n",
       "  <thead>\n",
       "    <tr style=\"text-align: right;\">\n",
       "      <th></th>\n",
       "      <th>Suhu</th>\n",
       "      <th>Kelembaban</th>\n",
       "      <th>Curah Hujan</th>\n",
       "      <th>Sinar Matahari</th>\n",
       "    </tr>\n",
       "  </thead>\n",
       "  <tbody>\n",
       "    <tr>\n",
       "      <th>0</th>\n",
       "      <td>27</td>\n",
       "      <td>88</td>\n",
       "      <td>10.55</td>\n",
       "      <td>5.69</td>\n",
       "    </tr>\n",
       "  </tbody>\n",
       "</table>\n",
       "</div>"
      ],
      "text/plain": [
       "   Suhu  Kelembaban  Curah Hujan  Sinar Matahari\n",
       "0    27          88        10.55            5.69"
      ]
     },
     "execution_count": 12,
     "metadata": {},
     "output_type": "execute_result"
    }
   ],
   "source": [
    "x_pred = pd.read_csv(\"data/testing.csv\")\n",
    "x_pred"
   ]
  },
  {
   "cell_type": "code",
   "execution_count": 13,
   "metadata": {},
   "outputs": [
    {
     "data": {
      "text/plain": [
       "array([0])"
      ]
     },
     "execution_count": 13,
     "metadata": {},
     "output_type": "execute_result"
    }
   ],
   "source": [
    "pipeline.predict(x_pred)"
   ]
  },
  {
   "cell_type": "code",
   "execution_count": 14,
   "metadata": {},
   "outputs": [
    {
     "name": "stdout",
     "output_type": "stream",
     "text": [
      "   Suhu  Kelembaban  Curah Hujan  Sinar Matahari  Kondisi\n",
      "0    27          88        10.55            5.69        0\n"
     ]
    }
   ],
   "source": [
    "x_pred[\"Kondisi\"] = pipeline.predict(x_pred)\n",
    "print(x_pred)"
   ]
  },
  {
   "cell_type": "code",
   "execution_count": 16,
   "metadata": {},
   "outputs": [
    {
     "name": "stdout",
     "output_type": "stream",
     "text": [
      "Akurasi model: 92.31%\n"
     ]
    }
   ],
   "source": [
    "from sklearn.metrics import accuracy_score\n",
    "y_pred = pipeline.predict(x_test)\n",
    "accuracy = accuracy_score(y_test, y_pred)\n",
    "print(\"Akurasi model: {:.2f}%\".format(accuracy * 100))"
   ]
  },
  {
   "cell_type": "code",
   "execution_count": 15,
   "metadata": {},
   "outputs": [
    {
     "name": "stdout",
     "output_type": "stream",
     "text": [
      "              precision    recall  f1-score   support\n",
      "\n",
      "           0       1.00      0.86      0.92         7\n",
      "           1       0.86      1.00      0.92         6\n",
      "\n",
      "    accuracy                           0.92        13\n",
      "   macro avg       0.93      0.93      0.92        13\n",
      "weighted avg       0.93      0.92      0.92        13\n",
      "\n"
     ]
    }
   ],
   "source": [
    "from sklearn.metrics import classification_report\n",
    "y_pred = pipeline.predict(x_test)\n",
    "report = classification_report(y_test, y_pred)\n",
    "print(report)"
   ]
  },
  {
   "cell_type": "code",
   "execution_count": 31,
   "metadata": {},
   "outputs": [],
   "source": [
    "data_array = np.array([[25, 80, 15, 0]])\n",
    "data_pred = pd.DataFrame(data_array, columns=[\"Suhu\", \"Kelembaban\", \"Curah Hujan\", \"Sinar Matahari\"])"
   ]
  },
  {
   "cell_type": "code",
   "execution_count": 33,
   "metadata": {},
   "outputs": [
    {
     "name": "stdout",
     "output_type": "stream",
     "text": [
      "   Suhu  Kelembaban  Curah Hujan  Sinar Matahari  Kondisi\n",
      "0    25          80           15               0        0\n"
     ]
    }
   ],
   "source": [
    "# Melakukan prediksi\n",
    "prediction = pipeline.predict(data_pred)\n",
    "data_pred[\"Kondisi\"] = prediction\n",
    "print(data_pred)"
   ]
  },
  {
   "cell_type": "code",
   "execution_count": 21,
   "metadata": {},
   "outputs": [
    {
     "data": {
      "text/plain": [
       "['model.pkl']"
      ]
     },
     "execution_count": 21,
     "metadata": {},
     "output_type": "execute_result"
    }
   ],
   "source": [
    "joblib.dump(pipeline, 'model.pkl')"
   ]
  }
 ],
 "metadata": {
  "kernelspec": {
   "display_name": "Python 3",
   "language": "python",
   "name": "python3"
  },
  "language_info": {
   "codemirror_mode": {
    "name": "ipython",
    "version": 3
   },
   "file_extension": ".py",
   "mimetype": "text/x-python",
   "name": "python",
   "nbconvert_exporter": "python",
   "pygments_lexer": "ipython3",
   "version": "3.10.6"
  },
  "orig_nbformat": 4
 },
 "nbformat": 4,
 "nbformat_minor": 2
}
